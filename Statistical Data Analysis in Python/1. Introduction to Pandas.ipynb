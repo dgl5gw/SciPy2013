{
 "metadata": {
  "name": "1. Introduction to Pandas"
 },
 "nbformat": 3,
 "nbformat_minor": 0,
 "worksheets": [
  {
   "cells": [
    {
     "cell_type": "markdown",
     "metadata": {},
     "source": [
      "# Introduction to Pandas\n",
      "\n",
      "**pandas** is a Python package providing fast, flexible, and expressive data structures designed to work with *relational* or *labeled* data both. It is a fundamental high-level building block for doing practical, real world data analysis in Python. \n",
      "\n",
      "pandas is well suited for:\n",
      "\n",
      "- Tabular data with heterogeneously-typed columns, as in an SQL table or Excel spreadsheet\n",
      "- Ordered and unordered (not necessarily fixed-frequency) time series data.\n",
      "- Arbitrary matrix data (homogeneously typed or heterogeneous) with row and column labels\n",
      "- Any other form of observational / statistical data sets. The data actually need not be labeled at all to be placed into a pandas data structure\n",
      "\n",
      "\n",
      "Key features:\n",
      "    \n",
      "- Easy handling of **missing data**\n",
      "- **Size mutability**: columns can be inserted and deleted from DataFrame and higher dimensional objects\n",
      "- Automatic and explicit **data alignment**: objects can be explicitly aligned to a set of labels, or the data can be aligned automatically\n",
      "- Powerful, flexible **group by functionality** to perform split-apply-combine operations on data sets\n",
      "- Intelligent label-based **slicing, fancy indexing, and subsetting** of large data sets\n",
      "- Intuitive **merging and joining** data sets\n",
      "- Flexible **reshaping and pivoting** of data sets\n",
      "- **Hierarchical labeling** of axes\n",
      "- Robust **IO tools** for loading data from flat files, Excel files, databases, and HDF5\n",
      "- **Time series functionality**: date range generation and frequency conversion, moving window statistics, moving window linear regressions, date shifting and lagging, etc."
     ]
    },
    {
     "cell_type": "code",
     "collapsed": false,
     "input": [
      "from IPython.core.display import HTML\n",
      "HTML(\"<iframe src=http://pandas.pydata.org width=800 height=350></iframe>\")"
     ],
     "language": "python",
     "metadata": {},
     "outputs": []
    },
    {
     "cell_type": "code",
     "collapsed": false,
     "input": [
      "import pandas as pd\n",
      "import numpy as np\n",
      "\n",
      "# Set some Pandas options\n",
      "pd.set_option('html', False)\n",
      "pd.set_option('max_columns', 30)\n",
      "pd.set_option('max_rows', 20)"
     ],
     "language": "python",
     "metadata": {},
     "outputs": []
    },
    {
     "cell_type": "markdown",
     "metadata": {},
     "source": [
      "## Pandas Data Structures"
     ]
    },
    {
     "cell_type": "markdown",
     "metadata": {},
     "source": [
      "### Series\n",
      "\n",
      "A **Series** is a single vector of data (like a NumPy array) with an *index* that labels each element in the vector."
     ]
    },
    {
     "cell_type": "code",
     "collapsed": false,
     "input": [
      "counts = pd.Series([632, 1638, 569, 115])\n",
      "counts"
     ],
     "language": "python",
     "metadata": {},
     "outputs": []
    },
    {
     "cell_type": "markdown",
     "metadata": {},
     "source": [
      "If an index is not specified, a default sequence of integers is assigned as the index. A NumPy array comprises the values of the `Series`, while the index is a pandas `Index` object."
     ]
    },
    {
     "cell_type": "code",
     "collapsed": false,
     "input": [
      "counts.values"
     ],
     "language": "python",
     "metadata": {},
     "outputs": []
    },
    {
     "cell_type": "code",
     "collapsed": false,
     "input": [
      "counts.index"
     ],
     "language": "python",
     "metadata": {},
     "outputs": []
    },
    {
     "cell_type": "markdown",
     "metadata": {},
     "source": [
      "We can assign meaningful labels to the index, if they are available:"
     ]
    },
    {
     "cell_type": "code",
     "collapsed": false,
     "input": [
      "bacteria = pd.Series([632, 1638, 569, 115], \n",
      "    index=['Firmicutes', 'Proteobacteria', 'Actinobacteria', 'Bacteroidetes'])\n",
      "\n",
      "bacteria"
     ],
     "language": "python",
     "metadata": {},
     "outputs": []
    },
    {
     "cell_type": "markdown",
     "metadata": {},
     "source": [
      "These labels can be used to refer to the values in the `Series`."
     ]
    },
    {
     "cell_type": "code",
     "collapsed": false,
     "input": [
      "bacteria['Actinobacteria']"
     ],
     "language": "python",
     "metadata": {},
     "outputs": []
    },
    {
     "cell_type": "code",
     "collapsed": false,
     "input": [
      "bacteria[[name.endswith('bacteria') for name in bacteria.index]]"
     ],
     "language": "python",
     "metadata": {},
     "outputs": []
    },
    {
     "cell_type": "code",
     "collapsed": false,
     "input": [
      "[name.endswith('bacteria') for name in bacteria.index]"
     ],
     "language": "python",
     "metadata": {},
     "outputs": []
    },
    {
     "cell_type": "markdown",
     "metadata": {},
     "source": [
      "Notice that the indexing operation preserved the association between the values and the corresponding indices.\n",
      "\n",
      "We can still use positional indexing if we wish."
     ]
    },
    {
     "cell_type": "code",
     "collapsed": false,
     "input": [
      "bacteria[0]"
     ],
     "language": "python",
     "metadata": {},
     "outputs": []
    },
    {
     "cell_type": "markdown",
     "metadata": {},
     "source": [
      "We can give both the array of values and the index meaningful labels themselves:"
     ]
    },
    {
     "cell_type": "code",
     "collapsed": false,
     "input": [
      "bacteria.name = 'counts'\n",
      "bacteria.index.name = 'phylum'\n",
      "bacteria"
     ],
     "language": "python",
     "metadata": {},
     "outputs": []
    },
    {
     "cell_type": "markdown",
     "metadata": {},
     "source": [
      "NumPy's math functions and other operations can be applied to Series without losing the data structure."
     ]
    },
    {
     "cell_type": "code",
     "collapsed": false,
     "input": [
      "np.log(bacteria)"
     ],
     "language": "python",
     "metadata": {},
     "outputs": []
    },
    {
     "cell_type": "markdown",
     "metadata": {},
     "source": [
      "We can also filter according to the values in the `Series`:"
     ]
    },
    {
     "cell_type": "code",
     "collapsed": false,
     "input": [
      "bacteria[bacteria>1000]"
     ],
     "language": "python",
     "metadata": {},
     "outputs": []
    },
    {
     "cell_type": "markdown",
     "metadata": {},
     "source": [
      "A `Series` can be thought of as an ordered key-value store. In fact, we can create one from a `dict`:"
     ]
    },
    {
     "cell_type": "code",
     "collapsed": false,
     "input": [
      "bacteria_dict = {'Firmicutes': 632, 'Proteobacteria': 1638, 'Actinobacteria': 569, 'Bacteroidetes': 115}\n",
      "pd.Series(bacteria_dict)"
     ],
     "language": "python",
     "metadata": {},
     "outputs": []
    },
    {
     "cell_type": "markdown",
     "metadata": {},
     "source": [
      "Notice that the `Series` is created in key-sorted order.\n",
      "\n",
      "If we pass a custom index to `Series`, it will select the corresponding values from the dict, and treat indices without corrsponding values as missing. Pandas uses the `NaN` (not a number) type for missing values."
     ]
    },
    {
     "cell_type": "code",
     "collapsed": false,
     "input": [
      "bacteria2 = pd.Series(bacteria_dict, index=['Cyanobacteria','Firmicutes','Proteobacteria','Actinobacteria'])\n",
      "bacteria2"
     ],
     "language": "python",
     "metadata": {},
     "outputs": []
    },
    {
     "cell_type": "code",
     "collapsed": false,
     "input": [
      "bacteria2.isnull()"
     ],
     "language": "python",
     "metadata": {},
     "outputs": []
    },
    {
     "cell_type": "markdown",
     "metadata": {},
     "source": [
      "Critically, the labels are used to **align data** when used in operations with other Series objects:"
     ]
    },
    {
     "cell_type": "code",
     "collapsed": false,
     "input": [
      "bacteria + bacteria2"
     ],
     "language": "python",
     "metadata": {},
     "outputs": []
    },
    {
     "cell_type": "markdown",
     "metadata": {},
     "source": [
      "Contrast this with NumPy arrays, where arrays of the same length will combine values element-wise; adding Series combined values with the same label in the resulting series. Notice also that the missing values were propogated by addition."
     ]
    },
    {
     "cell_type": "markdown",
     "metadata": {},
     "source": [
      "### DataFrame\n",
      "\n",
      "Inevitably, we want to be able to store, view and manipulate data that is *multivariate*, where for every index there are multiple fields or columns of data, often of varying data type.\n",
      "\n",
      "A `DataFrame` is a tabular data structure, encapsulating multiple series like columns in a spreadsheet. Data are stored internally as a 2-dimensional object, but the `DataFrame` allows us to represent and manipulate higher-dimensional data."
     ]
    },
    {
     "cell_type": "code",
     "collapsed": false,
     "input": [
      "data = pd.DataFrame({'value':[632, 1638, 569, 115, 433, 1130, 754, 555],\n",
      "                     'patient':[1, 1, 1, 1, 2, 2, 2, 2],\n",
      "                     'phylum':['Firmicutes', 'Proteobacteria', 'Actinobacteria', \n",
      "    'Bacteroidetes', 'Firmicutes', 'Proteobacteria', 'Actinobacteria', 'Bacteroidetes']})\n",
      "data"
     ],
     "language": "python",
     "metadata": {},
     "outputs": []
    },
    {
     "cell_type": "markdown",
     "metadata": {},
     "source": [
      "Notice the `DataFrame` is sorted by column name. We can change the order by indexing them in the order we desire:"
     ]
    },
    {
     "cell_type": "code",
     "collapsed": false,
     "input": [
      "data[['phylum','value','patient']]"
     ],
     "language": "python",
     "metadata": {},
     "outputs": []
    },
    {
     "cell_type": "markdown",
     "metadata": {},
     "source": [
      "A `DataFrame` has a second index, representing the columns:"
     ]
    },
    {
     "cell_type": "code",
     "collapsed": false,
     "input": [
      "data.columns"
     ],
     "language": "python",
     "metadata": {},
     "outputs": []
    },
    {
     "cell_type": "markdown",
     "metadata": {},
     "source": [
      "If we wish to access columns, we can do so either by dict-like indexing or by attribute:"
     ]
    },
    {
     "cell_type": "code",
     "collapsed": false,
     "input": [
      "data['value']"
     ],
     "language": "python",
     "metadata": {},
     "outputs": []
    },
    {
     "cell_type": "code",
     "collapsed": false,
     "input": [
      "data.value"
     ],
     "language": "python",
     "metadata": {},
     "outputs": []
    },
    {
     "cell_type": "code",
     "collapsed": false,
     "input": [
      "type(data.value)"
     ],
     "language": "python",
     "metadata": {},
     "outputs": []
    },
    {
     "cell_type": "code",
     "collapsed": false,
     "input": [
      "type(data[['value']])"
     ],
     "language": "python",
     "metadata": {},
     "outputs": []
    },
    {
     "cell_type": "markdown",
     "metadata": {},
     "source": [
      "Notice this is different than with `Series`, where dict-like indexing retrieved a particular element (row). If we want access to a row in a `DataFrame`, we index its `ix` attribute.\n"
     ]
    },
    {
     "cell_type": "code",
     "collapsed": false,
     "input": [
      "data.ix[3]"
     ],
     "language": "python",
     "metadata": {},
     "outputs": []
    },
    {
     "cell_type": "markdown",
     "metadata": {},
     "source": [
      "Alternatively, we can create a `DataFrame` with a dict of dicts:"
     ]
    },
    {
     "cell_type": "code",
     "collapsed": false,
     "input": [
      "data = pd.DataFrame({0: {'patient': 1, 'phylum': 'Firmicutes', 'value': 632},\n",
      "                    1: {'patient': 1, 'phylum': 'Proteobacteria', 'value': 1638},\n",
      "                    2: {'patient': 1, 'phylum': 'Actinobacteria', 'value': 569},\n",
      "                    3: {'patient': 1, 'phylum': 'Bacteroidetes', 'value': 115},\n",
      "                    4: {'patient': 2, 'phylum': 'Firmicutes', 'value': 433},\n",
      "                    5: {'patient': 2, 'phylum': 'Proteobacteria', 'value': 1130},\n",
      "                    6: {'patient': 2, 'phylum': 'Actinobacteria', 'value': 754},\n",
      "                    7: {'patient': 2, 'phylum': 'Bacteroidetes', 'value': 555}})"
     ],
     "language": "python",
     "metadata": {},
     "outputs": []
    },
    {
     "cell_type": "code",
     "collapsed": false,
     "input": [
      "data"
     ],
     "language": "python",
     "metadata": {},
     "outputs": []
    },
    {
     "cell_type": "markdown",
     "metadata": {},
     "source": [
      "We probably want this transposed:"
     ]
    },
    {
     "cell_type": "code",
     "collapsed": false,
     "input": [
      "data = data.T\n",
      "data"
     ],
     "language": "python",
     "metadata": {},
     "outputs": []
    },
    {
     "cell_type": "markdown",
     "metadata": {},
     "source": [
      "Its important to note that the Series returned when a DataFrame is indexted is merely a **view** on the DataFrame, and not a copy of the data itself. So you must be cautious when manipulating this data:"
     ]
    },
    {
     "cell_type": "code",
     "collapsed": false,
     "input": [
      "vals = data.value\n",
      "vals"
     ],
     "language": "python",
     "metadata": {},
     "outputs": []
    },
    {
     "cell_type": "code",
     "collapsed": false,
     "input": [
      "vals[5] = 0\n",
      "vals"
     ],
     "language": "python",
     "metadata": {},
     "outputs": []
    },
    {
     "cell_type": "code",
     "collapsed": false,
     "input": [
      "data"
     ],
     "language": "python",
     "metadata": {},
     "outputs": []
    },
    {
     "cell_type": "code",
     "collapsed": false,
     "input": [
      "vals = data.value.copy()\n",
      "vals[5] = 1000\n",
      "data"
     ],
     "language": "python",
     "metadata": {},
     "outputs": []
    },
    {
     "cell_type": "markdown",
     "metadata": {},
     "source": [
      "We can create or modify columns by assignment:"
     ]
    },
    {
     "cell_type": "code",
     "collapsed": false,
     "input": [
      "data.value[3] = 14\n",
      "data"
     ],
     "language": "python",
     "metadata": {},
     "outputs": []
    },
    {
     "cell_type": "code",
     "collapsed": false,
     "input": [
      "data['year'] = 2013\n",
      "data"
     ],
     "language": "python",
     "metadata": {},
     "outputs": []
    },
    {
     "cell_type": "markdown",
     "metadata": {},
     "source": [
      "But note, we cannot use the attribute indexing method to add a new column:"
     ]
    },
    {
     "cell_type": "code",
     "collapsed": false,
     "input": [
      "data.treatment = 1\n",
      "data"
     ],
     "language": "python",
     "metadata": {},
     "outputs": []
    },
    {
     "cell_type": "code",
     "collapsed": false,
     "input": [
      "data.treatment"
     ],
     "language": "python",
     "metadata": {},
     "outputs": []
    },
    {
     "cell_type": "markdown",
     "metadata": {},
     "source": [
      "Specifying a `Series` as a new columns cause its values to be added according to the `DataFrame`'s index:"
     ]
    },
    {
     "cell_type": "code",
     "collapsed": false,
     "input": [
      "treatment = pd.Series([0]*4 + [1]*2)\n",
      "treatment"
     ],
     "language": "python",
     "metadata": {},
     "outputs": []
    },
    {
     "cell_type": "code",
     "collapsed": false,
     "input": [
      "data['treatment'] = treatment\n",
      "data"
     ],
     "language": "python",
     "metadata": {},
     "outputs": []
    },
    {
     "cell_type": "markdown",
     "metadata": {},
     "source": [
      "Other Python data structures (ones without an index) need to be the same length as the `DataFrame`:"
     ]
    },
    {
     "cell_type": "code",
     "collapsed": false,
     "input": [
      "month = ['Jan', 'Feb', 'Mar', 'Apr']\n",
      "data['month'] = month"
     ],
     "language": "python",
     "metadata": {},
     "outputs": []
    },
    {
     "cell_type": "code",
     "collapsed": false,
     "input": [
      "data['month'] = ['Jan']*len(data)\n",
      "data"
     ],
     "language": "python",
     "metadata": {},
     "outputs": []
    },
    {
     "cell_type": "markdown",
     "metadata": {},
     "source": [
      "We can use `del` to remove columns, in the same way `dict` entries can be removed:"
     ]
    },
    {
     "cell_type": "code",
     "collapsed": false,
     "input": [
      "del data['month']\n",
      "data"
     ],
     "language": "python",
     "metadata": {},
     "outputs": []
    },
    {
     "cell_type": "markdown",
     "metadata": {},
     "source": [
      "We can extract the underlying data as a simple `ndarray` by accessing the `values` attribute:"
     ]
    },
    {
     "cell_type": "code",
     "collapsed": false,
     "input": [
      "data.values"
     ],
     "language": "python",
     "metadata": {},
     "outputs": []
    },
    {
     "cell_type": "markdown",
     "metadata": {},
     "source": [
      "Notice that because of the mix of string and integer (and `NaN`) values, the dtype of the array is `object`. The dtype will automatically be chosen to be as general as needed to accomodate all the columns."
     ]
    },
    {
     "cell_type": "code",
     "collapsed": false,
     "input": [
      "df = pd.DataFrame({'foo': [1,2,3], 'bar':[0.4, -1.0, 4.5]})\n",
      "df.values"
     ],
     "language": "python",
     "metadata": {},
     "outputs": []
    },
    {
     "cell_type": "markdown",
     "metadata": {},
     "source": [
      "Pandas uses a custom data structure to represent the indices of Series and DataFrames."
     ]
    },
    {
     "cell_type": "code",
     "collapsed": false,
     "input": [
      "data.index"
     ],
     "language": "python",
     "metadata": {},
     "outputs": []
    },
    {
     "cell_type": "markdown",
     "metadata": {},
     "source": [
      "Index objects are immutable:"
     ]
    },
    {
     "cell_type": "code",
     "collapsed": false,
     "input": [
      "data.index[0] = 15"
     ],
     "language": "python",
     "metadata": {},
     "outputs": []
    },
    {
     "cell_type": "markdown",
     "metadata": {},
     "source": [
      "This is so that Index objects can be shared between data structures without fear that they will be changed."
     ]
    },
    {
     "cell_type": "code",
     "collapsed": false,
     "input": [
      "bacteria2.index = bacteria.index"
     ],
     "language": "python",
     "metadata": {},
     "outputs": []
    },
    {
     "cell_type": "code",
     "collapsed": false,
     "input": [
      "bacteria2"
     ],
     "language": "python",
     "metadata": {},
     "outputs": []
    },
    {
     "cell_type": "markdown",
     "metadata": {},
     "source": [
      "## Importing data"
     ]
    },
    {
     "cell_type": "markdown",
     "metadata": {},
     "source": [
      "A key, but often under-appreciated, step in data analysis is importing the data that we wish to analyze. Though it is easy to load basic data structures into Python using built-in tools or those provided by packages like NumPy, it is non-trivial to import structured data well, and to easily convert this input into a robust data structure:\n",
      "\n",
      "    genes = np.loadtxt(\"genes.csv\", delimiter=\",\", dtype=[('gene', '|S10'), ('value', '<f4')])\n",
      "\n",
      "Pandas provides a convenient set of functions for importing tabular data in a number of formats directly into a `DataFrame` object. These functions include a slew of options to perform type inference, indexing, parsing, iterating and cleaning automatically as data are imported."
     ]
    },
    {
     "cell_type": "markdown",
     "metadata": {},
     "source": [
      "Let's start with some more bacteria data, stored in csv format."
     ]
    },
    {
     "cell_type": "code",
     "collapsed": false,
     "input": [
      "!cat data/microbiome.csv"
     ],
     "language": "python",
     "metadata": {},
     "outputs": []
    },
    {
     "cell_type": "markdown",
     "metadata": {},
     "source": [
      "This table can be read into a DataFrame using `read_csv`:"
     ]
    },
    {
     "cell_type": "code",
     "collapsed": false,
     "input": [
      "mb = pd.read_csv(\"data/microbiome.csv\")\n",
      "mb"
     ],
     "language": "python",
     "metadata": {},
     "outputs": []
    },
    {
     "cell_type": "markdown",
     "metadata": {},
     "source": [
      "Notice that `read_csv` automatically considered the first row in the file to be a header row.\n",
      "\n",
      "We can override default behavior by customizing some the arguments, like `header`, `names` or `index_col`."
     ]
    },
    {
     "cell_type": "code",
     "collapsed": false,
     "input": [
      "pd.read_csv(\"data/microbiome.csv\", header=None).head()"
     ],
     "language": "python",
     "metadata": {},
     "outputs": []
    },
    {
     "cell_type": "markdown",
     "metadata": {},
     "source": [
      "`read_csv` is just a convenience function for `read_table`, since csv is such a common format:"
     ]
    },
    {
     "cell_type": "code",
     "collapsed": false,
     "input": [
      "mb = pd.read_table(\"data/microbiome.csv\", sep=',')"
     ],
     "language": "python",
     "metadata": {},
     "outputs": []
    },
    {
     "cell_type": "markdown",
     "metadata": {},
     "source": [
      "The `sep` argument can be customized as needed to accomodate arbitrary separators. For example, we can use a regular expression to define a variable amount of whitespace, which is unfortunately very common in some data formats: \n",
      "    \n",
      "    sep='\\s+'"
     ]
    },
    {
     "cell_type": "markdown",
     "metadata": {},
     "source": [
      "For a more useful index, we can specify the first two columns, which together provide a unique index to the data."
     ]
    },
    {
     "cell_type": "code",
     "collapsed": false,
     "input": [
      "mb = pd.read_csv(\"data/microbiome.csv\", index_col=['Taxon','Patient'])\n",
      "mb.head()"
     ],
     "language": "python",
     "metadata": {},
     "outputs": []
    },
    {
     "cell_type": "markdown",
     "metadata": {},
     "source": [
      "This is called a *hierarchical* index, which we will revisit later in the tutorial."
     ]
    },
    {
     "cell_type": "markdown",
     "metadata": {},
     "source": [
      "If we have sections of data that we do not wish to import (for example, known bad data), we can populate the `skiprows` argument:"
     ]
    },
    {
     "cell_type": "code",
     "collapsed": false,
     "input": [
      "pd.read_csv(\"data/microbiome.csv\", skiprows=[3,4,6]).head()"
     ],
     "language": "python",
     "metadata": {},
     "outputs": []
    },
    {
     "cell_type": "markdown",
     "metadata": {},
     "source": [
      "Conversely, if we only want to import a small number of rows from, say, a very large data file we can use `nrows`:"
     ]
    },
    {
     "cell_type": "code",
     "collapsed": false,
     "input": [
      "pd.read_csv(\"data/microbiome.csv\", nrows=4)"
     ],
     "language": "python",
     "metadata": {},
     "outputs": []
    },
    {
     "cell_type": "markdown",
     "metadata": {},
     "source": [
      "Alternately, if we want to process our data in reasonable chunks, the `chunksize` argument will return an iterable object that can be employed in a data processing loop. For example, our microbiome data are organized by bacterial phylum, with 15 patients represented in each:"
     ]
    },
    {
     "cell_type": "code",
     "collapsed": false,
     "input": [
      "data_chunks = pd.read_csv(\"data/microbiome.csv\", chunksize=15)\n",
      "\n",
      "mean_tissue = {chunk.Taxon[0]:chunk.Tissue.mean() for chunk in data_chunks}\n",
      "    \n",
      "mean_tissue"
     ],
     "language": "python",
     "metadata": {},
     "outputs": []
    },
    {
     "cell_type": "markdown",
     "metadata": {},
     "source": [
      "Most real-world data is incomplete, with values missing due to incomplete observation, data entry or transcription error, or other reasons. Pandas will automatically recognize and parse common missing data indicators, including `NA` and `NULL`."
     ]
    },
    {
     "cell_type": "code",
     "collapsed": false,
     "input": [
      "!cat data/microbiome_missing.csv"
     ],
     "language": "python",
     "metadata": {},
     "outputs": []
    },
    {
     "cell_type": "code",
     "collapsed": false,
     "input": [
      "pd.read_csv(\"data/microbiome_missing.csv\").head(20)"
     ],
     "language": "python",
     "metadata": {},
     "outputs": []
    },
    {
     "cell_type": "markdown",
     "metadata": {},
     "source": [
      "Above, Pandas recognized `NA` and an empty field as missing data."
     ]
    },
    {
     "cell_type": "code",
     "collapsed": false,
     "input": [
      "pd.isnull(pd.read_csv(\"data/microbiome_missing.csv\")).head(20)"
     ],
     "language": "python",
     "metadata": {},
     "outputs": []
    },
    {
     "cell_type": "markdown",
     "metadata": {},
     "source": [
      "Unfortunately, there will sometimes be inconsistency with the conventions for missing data. In this example, there is a question mark \"?\" and a large negative number where there should have been a positive integer. We can specify additional symbols with the `na_values` argument:\n",
      "   "
     ]
    },
    {
     "cell_type": "code",
     "collapsed": false,
     "input": [
      "pd.read_csv(\"data/microbiome_missing.csv\", na_values=['?', -99999]).head(20)"
     ],
     "language": "python",
     "metadata": {},
     "outputs": []
    },
    {
     "cell_type": "markdown",
     "metadata": {},
     "source": [
      "These can be specified on a column-wise basis using an appropriate dict as the argument for `na_values`."
     ]
    },
    {
     "cell_type": "markdown",
     "metadata": {},
     "source": [
      "### Microsoft Excel\n",
      "\n",
      "Since so much financial and scientific data ends up in Excel spreadsheets (regrettably), Pandas' ability to directly import Excel spreadsheets is valuable. This support is contingent on having one or two dependencies (depending on what version of Excel file is being imported) installed: `xlrd` and `openpyxl` (these may be installed with either `pip` or `easy_install`).\n",
      "\n",
      "Importing Excel data to Pandas is a two-step process. First, we create an `ExcelFile` object using the path of the file:                                             "
     ]
    },
    {
     "cell_type": "code",
     "collapsed": false,
     "input": [
      "mb_file = pd.ExcelFile('data/microbiome/MID1.xls')\n",
      "mb_file"
     ],
     "language": "python",
     "metadata": {},
     "outputs": []
    },
    {
     "cell_type": "markdown",
     "metadata": {},
     "source": [
      "Then, since modern spreadsheets consist of one or more \"sheets\", we parse the sheet with the data of interest:"
     ]
    },
    {
     "cell_type": "code",
     "collapsed": false,
     "input": [
      "mb1 = mb_file.parse(\"Sheet 1\", header=None)\n",
      "mb1.columns = [\"Taxon\", \"Count\"]\n",
      "mb1.head()"
     ],
     "language": "python",
     "metadata": {},
     "outputs": []
    },
    {
     "cell_type": "markdown",
     "metadata": {},
     "source": [
      "There is now a `read_excel` conveneince function in Pandas that combines these steps into a single call:"
     ]
    },
    {
     "cell_type": "code",
     "collapsed": false,
     "input": [
      "mb2 = pd.read_excel('data/microbiome/MID2.xls', sheetname='Sheet 1', header=None)\n",
      "mb2.head()"
     ],
     "language": "python",
     "metadata": {},
     "outputs": []
    },
    {
     "cell_type": "markdown",
     "metadata": {},
     "source": [
      "There are several other data formats that can be imported into Python and converted into DataFrames, with the help of buitl-in or third-party libraries. These include JSON, XML, HDF5, relational and non-relational databases, and various web APIs. These are beyond the scope of this tutorial, but are covered in [Python for Data Analysis](http://shop.oreilly.com/product/0636920023784.do)."
     ]
    },
    {
     "cell_type": "markdown",
     "metadata": {},
     "source": [
      "## Pandas Fundamentals"
     ]
    },
    {
     "cell_type": "markdown",
     "metadata": {},
     "source": [
      "This section introduces the new user to the key functionality of Pandas that is required to use the software effectively.\n",
      "\n",
      "For some variety, we will leave our digestive tract bacteria behind and employ some baseball data."
     ]
    },
    {
     "cell_type": "code",
     "collapsed": false,
     "input": [
      "baseball = pd.read_csv(\"data/baseball.csv\", index_col='id')\n",
      "baseball.head()"
     ],
     "language": "python",
     "metadata": {},
     "outputs": []
    },
    {
     "cell_type": "markdown",
     "metadata": {},
     "source": [
      "Notice that we specified the `id` column as the index, since it appears to be a unique identifier. We could try to create a unique index ourselves by combining `player` and `year`:"
     ]
    },
    {
     "cell_type": "code",
     "collapsed": false,
     "input": [
      "player_id = baseball.player + baseball.year.astype(str)\n",
      "baseball_newind = baseball.copy()\n",
      "baseball_newind.index = player_id\n",
      "baseball_newind.head()"
     ],
     "language": "python",
     "metadata": {},
     "outputs": []
    },
    {
     "cell_type": "markdown",
     "metadata": {},
     "source": [
      "This looks okay, but let's check:"
     ]
    },
    {
     "cell_type": "code",
     "collapsed": false,
     "input": [
      "baseball_newind.index.is_unique"
     ],
     "language": "python",
     "metadata": {},
     "outputs": []
    },
    {
     "cell_type": "markdown",
     "metadata": {},
     "source": [
      "So, indices need not be unique. Our choice is not unique because some players change teams within years."
     ]
    },
    {
     "cell_type": "code",
     "collapsed": false,
     "input": [
      "pd.Series(baseball_newind.index).value_counts()"
     ],
     "language": "python",
     "metadata": {},
     "outputs": []
    },
    {
     "cell_type": "markdown",
     "metadata": {},
     "source": [
      "The most important consequence of a non-unique index is that indexing by label will return multiple values for some labels:"
     ]
    },
    {
     "cell_type": "code",
     "collapsed": false,
     "input": [
      "baseball_newind.ix['wickmbo012007']"
     ],
     "language": "python",
     "metadata": {},
     "outputs": []
    },
    {
     "cell_type": "markdown",
     "metadata": {},
     "source": [
      "We will learn more about indexing below."
     ]
    },
    {
     "cell_type": "markdown",
     "metadata": {},
     "source": [
      "We can create a truly unique index by combining `player`, `team` and `year`:"
     ]
    },
    {
     "cell_type": "code",
     "collapsed": false,
     "input": [
      "player_unique = baseball.player + baseball.team + baseball.year.astype(str)\n",
      "baseball_newind = baseball.copy()\n",
      "baseball_newind.index = player_unique\n",
      "baseball_newind.head()"
     ],
     "language": "python",
     "metadata": {},
     "outputs": []
    },
    {
     "cell_type": "code",
     "collapsed": false,
     "input": [
      "baseball_newind.index.is_unique"
     ],
     "language": "python",
     "metadata": {},
     "outputs": []
    },
    {
     "cell_type": "markdown",
     "metadata": {},
     "source": [
      "We can create meaningful indices more easily using a hierarchical index; for now, we will stick with the numeric `id` field as our index."
     ]
    },
    {
     "cell_type": "markdown",
     "metadata": {},
     "source": [
      "### Manipulating indices\n",
      "\n",
      "**Reindexing** allows users to manipulate the data labels in a DataFrame. It forces a DataFrame to conform to the new index, and optionally, fill in missing data if requested.\n",
      "\n",
      "A simple use of `reindex` is to alter the order of the rows:"
     ]
    },
    {
     "cell_type": "code",
     "collapsed": false,
     "input": [
      "baseball.reindex(baseball.index[::-1]).head()"
     ],
     "language": "python",
     "metadata": {},
     "outputs": []
    },
    {
     "cell_type": "markdown",
     "metadata": {},
     "source": [
      "Notice that the `id` index is not sequential. Say we wanted to populate the table with every `id` value. We could specify and index that is a sequence from the first to the last `id` numbers in the database, and Pandas would fill in the missing data with `NaN` values:"
     ]
    },
    {
     "cell_type": "code",
     "collapsed": false,
     "input": [
      "id_range = range(baseball.index.values.min(), baseball.index.values.max())\n",
      "baseball.reindex(id_range).head()"
     ],
     "language": "python",
     "metadata": {},
     "outputs": []
    },
    {
     "cell_type": "markdown",
     "metadata": {},
     "source": [
      "Missing values can be filled as desired, either with selected values, or by rule:"
     ]
    },
    {
     "cell_type": "code",
     "collapsed": false,
     "input": [
      "baseball.reindex(id_range, method='ffill', columns=['player','year']).head()"
     ],
     "language": "python",
     "metadata": {},
     "outputs": []
    },
    {
     "cell_type": "code",
     "collapsed": false,
     "input": [
      "baseball.reindex(id_range, fill_value='mr.nobody', columns=['player']).head()"
     ],
     "language": "python",
     "metadata": {},
     "outputs": []
    },
    {
     "cell_type": "markdown",
     "metadata": {},
     "source": [
      "Keep in mind that `reindex` does not work if we pass a non-unique index series."
     ]
    },
    {
     "cell_type": "markdown",
     "metadata": {},
     "source": [
      "We can remove rows or columns via the `drop` method:"
     ]
    },
    {
     "cell_type": "code",
     "collapsed": false,
     "input": [
      "baseball.shape"
     ],
     "language": "python",
     "metadata": {},
     "outputs": []
    },
    {
     "cell_type": "code",
     "collapsed": false,
     "input": [
      "baseball.drop([89525, 89526])"
     ],
     "language": "python",
     "metadata": {},
     "outputs": []
    },
    {
     "cell_type": "code",
     "collapsed": false,
     "input": [
      "baseball.drop(['ibb','hbp'], axis=1)"
     ],
     "language": "python",
     "metadata": {},
     "outputs": []
    },
    {
     "cell_type": "markdown",
     "metadata": {},
     "source": [
      "## Indexing and Selection\n",
      "\n",
      "Indexing works analogously to indexing in NumPy arrays, except we can use the labels in the `Index` object to extract values in addition to arrays of integers."
     ]
    },
    {
     "cell_type": "code",
     "collapsed": false,
     "input": [
      "# Sample Series object\n",
      "hits = baseball_newind.h\n",
      "hits"
     ],
     "language": "python",
     "metadata": {},
     "outputs": []
    },
    {
     "cell_type": "code",
     "collapsed": false,
     "input": [
      "# Numpy-style indexing\n",
      "hits[:3]"
     ],
     "language": "python",
     "metadata": {},
     "outputs": []
    },
    {
     "cell_type": "code",
     "collapsed": false,
     "input": [
      "# Indexing by label\n",
      "hits[['womacto01CHN2006','schilcu01BOS2006']]"
     ],
     "language": "python",
     "metadata": {},
     "outputs": []
    },
    {
     "cell_type": "markdown",
     "metadata": {},
     "source": [
      "We can also slice with data labels, since they have an intrinsic order within the Index:"
     ]
    },
    {
     "cell_type": "code",
     "collapsed": false,
     "input": [
      "hits['womacto01CHN2006':'gonzalu01ARI2006']"
     ],
     "language": "python",
     "metadata": {},
     "outputs": []
    },
    {
     "cell_type": "code",
     "collapsed": false,
     "input": [
      "hits['womacto01CHN2006':'gonzalu01ARI2006'] = 5\n",
      "hits"
     ],
     "language": "python",
     "metadata": {},
     "outputs": []
    },
    {
     "cell_type": "markdown",
     "metadata": {},
     "source": [
      "In a `DataFrame` we can slice along either or both axes:"
     ]
    },
    {
     "cell_type": "code",
     "collapsed": false,
     "input": [
      "baseball_newind[['h','ab']]"
     ],
     "language": "python",
     "metadata": {},
     "outputs": []
    },
    {
     "cell_type": "code",
     "collapsed": false,
     "input": [
      "baseball_newind[baseball_newind.ab>500]"
     ],
     "language": "python",
     "metadata": {},
     "outputs": []
    },
    {
     "cell_type": "markdown",
     "metadata": {},
     "source": [
      "The indexing field `ix` allows us to select subsets of rows and columns in an intuitive way:"
     ]
    },
    {
     "cell_type": "code",
     "collapsed": false,
     "input": [
      "baseball_newind.ix['gonzalu01ARI2006', ['h','X2b', 'X3b', 'hr']]"
     ],
     "language": "python",
     "metadata": {},
     "outputs": []
    },
    {
     "cell_type": "code",
     "collapsed": false,
     "input": [
      "baseball_newind.ix[['gonzalu01ARI2006','finlest01SFN2006'], 5:8]"
     ],
     "language": "python",
     "metadata": {},
     "outputs": []
    },
    {
     "cell_type": "code",
     "collapsed": false,
     "input": [
      "baseball_newind.ix[:'myersmi01NYA2006', 'hr']"
     ],
     "language": "python",
     "metadata": {},
     "outputs": []
    },
    {
     "cell_type": "markdown",
     "metadata": {},
     "source": [
      "Similarly, the cross-section method `xs` (not a field) extracts a single column or row *by label* and returns it as a `Series`:"
     ]
    },
    {
     "cell_type": "code",
     "collapsed": false,
     "input": [
      "baseball_newind.xs('myersmi01NYA2006')"
     ],
     "language": "python",
     "metadata": {},
     "outputs": []
    },
    {
     "cell_type": "markdown",
     "metadata": {},
     "source": [
      "## Operations\n",
      "\n",
      "`DataFrame` and `Series` objects allow for several operations to take place either on a single object, or between two or more objects.\n",
      "\n",
      "For example, we can perform arithmetic on the elements of two objects, such as combining baseball statistics across years:"
     ]
    },
    {
     "cell_type": "code",
     "collapsed": false,
     "input": [
      "hr2006 = baseball[baseball.year==2006].xs('hr', axis=1)\n",
      "hr2006.index = baseball.player[baseball.year==2006]\n",
      "\n",
      "hr2007 = baseball[baseball.year==2007].xs('hr', axis=1)\n",
      "hr2007.index = baseball.player[baseball.year==2007]"
     ],
     "language": "python",
     "metadata": {},
     "outputs": []
    },
    {
     "cell_type": "code",
     "collapsed": false,
     "input": [
      "hr2006 = pd.Series(baseball.hr[baseball.year==2006].values, index=baseball.player[baseball.year==2006])\n",
      "hr2007 = pd.Series(baseball.hr[baseball.year==2007].values, index=baseball.player[baseball.year==2007])"
     ],
     "language": "python",
     "metadata": {},
     "outputs": []
    },
    {
     "cell_type": "code",
     "collapsed": false,
     "input": [
      "hr_total = hr2006 + hr2007\n",
      "hr_total"
     ],
     "language": "python",
     "metadata": {},
     "outputs": []
    },
    {
     "cell_type": "markdown",
     "metadata": {},
     "source": [
      "Pandas' data alignment places `NaN` values for labels that do not overlap in the two Series. In fact, there are only 6 players that occur in both years."
     ]
    },
    {
     "cell_type": "code",
     "collapsed": false,
     "input": [
      "hr_total[hr_total.notnull()]"
     ],
     "language": "python",
     "metadata": {},
     "outputs": []
    },
    {
     "cell_type": "markdown",
     "metadata": {},
     "source": [
      "While we do want the operation to honor the data labels in this way, we probably do not want the missing values to be filled with `NaN`. We can use the `add` method to calculate player home run totals by using the `fill_value` argument to insert a zero for home runs where labels do not overlap:"
     ]
    },
    {
     "cell_type": "code",
     "collapsed": false,
     "input": [
      "hr2007.add(hr2006, fill_value=0)"
     ],
     "language": "python",
     "metadata": {},
     "outputs": []
    },
    {
     "cell_type": "markdown",
     "metadata": {},
     "source": [
      "Operations can also be **broadcast** between rows or columns.\n",
      "\n",
      "For example, if we subtract the maximum number of home runs hit from the `hr` column, we get how many fewer than the maximum were hit by each player:"
     ]
    },
    {
     "cell_type": "code",
     "collapsed": false,
     "input": [
      "baseball.hr - baseball.hr.max()"
     ],
     "language": "python",
     "metadata": {},
     "outputs": []
    },
    {
     "cell_type": "markdown",
     "metadata": {},
     "source": [
      "Or, looking at things row-wise, we can see how a particular player compares with the rest of the group with respect to important statistics"
     ]
    },
    {
     "cell_type": "code",
     "collapsed": false,
     "input": [
      "baseball.ix[89521][\"player\"]"
     ],
     "language": "python",
     "metadata": {},
     "outputs": []
    },
    {
     "cell_type": "code",
     "collapsed": false,
     "input": [
      "stats = baseball[['h','X2b', 'X3b', 'hr']]\n",
      "diff = stats - stats.xs(89521)\n",
      "diff[:10]"
     ],
     "language": "python",
     "metadata": {},
     "outputs": []
    },
    {
     "cell_type": "markdown",
     "metadata": {},
     "source": [
      "We can also apply functions to each column or row of a `DataFrame`"
     ]
    },
    {
     "cell_type": "code",
     "collapsed": false,
     "input": [
      "stats.apply(np.median)"
     ],
     "language": "python",
     "metadata": {},
     "outputs": []
    },
    {
     "cell_type": "code",
     "collapsed": false,
     "input": [
      "stat_range = lambda x: x.max() - x.min()\n",
      "stats.apply(stat_range)"
     ],
     "language": "python",
     "metadata": {},
     "outputs": []
    },
    {
     "cell_type": "markdown",
     "metadata": {},
     "source": [
      "Lets use apply to calculate a meaningful baseball statistics, slugging percentage:\n",
      "\n",
      "$$SLG = \\frac{1B + (2 \\times 2B) + (3 \\times 3B) + (4 \\times HR)}{AB}$$\n",
      "\n",
      "And just for fun, we will format the resulting estimate."
     ]
    },
    {
     "cell_type": "code",
     "collapsed": false,
     "input": [
      "slg = lambda x: (x['h']-x['X2b']-x['X3b']-x['hr'] + 2*x['X2b'] + 3*x['X3b'] + 4*x['hr'])/(x['ab']+1e-6)\n",
      "baseball.apply(slg, axis=1).apply(lambda x: '%.3f' % x)"
     ],
     "language": "python",
     "metadata": {},
     "outputs": []
    },
    {
     "cell_type": "markdown",
     "metadata": {},
     "source": [
      "## Sorting and Ranking\n",
      "\n",
      "Pandas objects include methods for re-ordering data."
     ]
    },
    {
     "cell_type": "code",
     "collapsed": false,
     "input": [
      "baseball_newind.sort_index().head()"
     ],
     "language": "python",
     "metadata": {},
     "outputs": []
    },
    {
     "cell_type": "code",
     "collapsed": false,
     "input": [
      "baseball_newind.sort_index(ascending=False).head()"
     ],
     "language": "python",
     "metadata": {},
     "outputs": []
    },
    {
     "cell_type": "code",
     "collapsed": false,
     "input": [
      "baseball_newind.sort_index(axis=1).head()"
     ],
     "language": "python",
     "metadata": {},
     "outputs": []
    },
    {
     "cell_type": "markdown",
     "metadata": {},
     "source": [
      "We can also use `order` to sort a `Series` by value, rather than by label."
     ]
    },
    {
     "cell_type": "code",
     "collapsed": false,
     "input": [
      "baseball.hr.order(ascending=False)"
     ],
     "language": "python",
     "metadata": {},
     "outputs": []
    },
    {
     "cell_type": "markdown",
     "metadata": {},
     "source": [
      "For a `DataFrame`, we can sort according to the values of one or more columns using the `by` argument of `sort_index`:"
     ]
    },
    {
     "cell_type": "code",
     "collapsed": false,
     "input": [
      "baseball[['player','sb','cs']].sort_index(ascending=[False,True], by=['sb', 'cs']).head(10)"
     ],
     "language": "python",
     "metadata": {},
     "outputs": []
    },
    {
     "cell_type": "markdown",
     "metadata": {},
     "source": [
      "**Ranking** does not re-arrange data, but instead returns an index that ranks each value relative to others in the Series."
     ]
    },
    {
     "cell_type": "code",
     "collapsed": false,
     "input": [
      "baseball.hr.rank()"
     ],
     "language": "python",
     "metadata": {},
     "outputs": []
    },
    {
     "cell_type": "markdown",
     "metadata": {},
     "source": [
      "Ties are assigned the mean value of the tied ranks, which may result in decimal values."
     ]
    },
    {
     "cell_type": "code",
     "collapsed": false,
     "input": [
      "pd.Series([100,100]).rank()"
     ],
     "language": "python",
     "metadata": {},
     "outputs": []
    },
    {
     "cell_type": "markdown",
     "metadata": {},
     "source": [
      "Alternatively, you can break ties via one of several methods, such as by the order in which they occur in the dataset:"
     ]
    },
    {
     "cell_type": "code",
     "collapsed": false,
     "input": [
      "baseball.hr.rank(method='first')"
     ],
     "language": "python",
     "metadata": {},
     "outputs": []
    },
    {
     "cell_type": "markdown",
     "metadata": {},
     "source": [
      "Calling the `DataFrame`'s `rank` method results in the ranks of all columns:"
     ]
    },
    {
     "cell_type": "code",
     "collapsed": false,
     "input": [
      "baseball.rank(ascending=False).head()"
     ],
     "language": "python",
     "metadata": {},
     "outputs": []
    },
    {
     "cell_type": "code",
     "collapsed": false,
     "input": [
      "baseball[['r','h','hr']].rank(ascending=False).head()"
     ],
     "language": "python",
     "metadata": {},
     "outputs": []
    },
    {
     "cell_type": "markdown",
     "metadata": {},
     "source": [
      "### Exercise\n",
      "\n",
      "Calculate **on base percentage** for each player, and return the ordered series of estimates.\n",
      "\n",
      "$$OBP = \\frac{H + BB + HBP}{AB + BB + HBP + SF}$$"
     ]
    },
    {
     "cell_type": "code",
     "collapsed": false,
     "input": [],
     "language": "python",
     "metadata": {},
     "outputs": []
    },
    {
     "cell_type": "markdown",
     "metadata": {},
     "source": [
      "## Hierarchical indexing\n",
      "\n",
      "In the baseball example, I was forced to combine 3 fields to obtain a unique index that was not simply an integer value. A more elegant way to have done this would be to create a hierarchical index from the three fields."
     ]
    },
    {
     "cell_type": "code",
     "collapsed": false,
     "input": [
      "baseball_h = baseball.set_index(['year', 'team', 'player'])\n",
      "baseball_h.head(10)"
     ],
     "language": "python",
     "metadata": {},
     "outputs": []
    },
    {
     "cell_type": "markdown",
     "metadata": {},
     "source": [
      "This index is a `MultiIndex` object that consists of a sequence of tuples, the elements of which is some combination of the three columns used to create the index. Where there are multiple repeated values, Pandas does not print the repeats, making it easy to identify groups of values."
     ]
    },
    {
     "cell_type": "code",
     "collapsed": false,
     "input": [
      "baseball_h.index[:10]"
     ],
     "language": "python",
     "metadata": {},
     "outputs": []
    },
    {
     "cell_type": "code",
     "collapsed": false,
     "input": [
      "baseball_h.index.is_unique"
     ],
     "language": "python",
     "metadata": {},
     "outputs": []
    },
    {
     "cell_type": "code",
     "collapsed": false,
     "input": [
      "baseball_h.ix[(2007, 'ATL', 'francju01')]"
     ],
     "language": "python",
     "metadata": {},
     "outputs": []
    },
    {
     "cell_type": "markdown",
     "metadata": {},
     "source": [
      "Recall earlier we imported some microbiome data using two index columns. This created a 2-level hierarchical index:"
     ]
    },
    {
     "cell_type": "code",
     "collapsed": false,
     "input": [
      "mb = pd.read_csv(\"data/microbiome.csv\", index_col=['Taxon','Patient'])"
     ],
     "language": "python",
     "metadata": {},
     "outputs": []
    },
    {
     "cell_type": "code",
     "collapsed": false,
     "input": [
      "mb.head(10)"
     ],
     "language": "python",
     "metadata": {},
     "outputs": []
    },
    {
     "cell_type": "code",
     "collapsed": false,
     "input": [
      "mb.index"
     ],
     "language": "python",
     "metadata": {},
     "outputs": []
    },
    {
     "cell_type": "markdown",
     "metadata": {},
     "source": [
      "With a hierachical index, we can select subsets of the data based on a *partial* index:"
     ]
    },
    {
     "cell_type": "code",
     "collapsed": false,
     "input": [
      "mb.ix['Proteobacteria']"
     ],
     "language": "python",
     "metadata": {},
     "outputs": []
    },
    {
     "cell_type": "markdown",
     "metadata": {},
     "source": [
      "Hierarchical indices can be created on either or both axes. Here is a trivial example:"
     ]
    },
    {
     "cell_type": "code",
     "collapsed": false,
     "input": [
      "frame = pd.DataFrame(np.arange(12).reshape(( 4, 3)), \n",
      "                  index =[['a', 'a', 'b', 'b'], [1, 2, 1, 2]], \n",
      "                  columns =[['Ohio', 'Ohio', 'Colorado'], ['Green', 'Red', 'Green']])\n",
      "\n",
      "frame"
     ],
     "language": "python",
     "metadata": {},
     "outputs": []
    },
    {
     "cell_type": "markdown",
     "metadata": {},
     "source": [
      "If you want to get fancy, both the row and column indices themselves can be given names:"
     ]
    },
    {
     "cell_type": "code",
     "collapsed": false,
     "input": [
      "frame.index.names = ['key1', 'key2']\n",
      "frame.columns.names = ['state', 'color']\n",
      "frame"
     ],
     "language": "python",
     "metadata": {},
     "outputs": []
    },
    {
     "cell_type": "markdown",
     "metadata": {},
     "source": [
      "With this, we can do all sorts of custom indexing:"
     ]
    },
    {
     "cell_type": "code",
     "collapsed": false,
     "input": [
      "frame.ix['a']['Ohio']"
     ],
     "language": "python",
     "metadata": {},
     "outputs": []
    },
    {
     "cell_type": "code",
     "collapsed": false,
     "input": [
      "frame.ix['b', 2]['Colorado']"
     ],
     "language": "python",
     "metadata": {},
     "outputs": []
    },
    {
     "cell_type": "markdown",
     "metadata": {},
     "source": [
      "Additionally, the order of the set of indices in a hierarchical `MultiIndex` can be changed by swapping them pairwise:"
     ]
    },
    {
     "cell_type": "code",
     "collapsed": false,
     "input": [
      "mb.swaplevel('Patient', 'Taxon').head()"
     ],
     "language": "python",
     "metadata": {},
     "outputs": []
    },
    {
     "cell_type": "markdown",
     "metadata": {},
     "source": [
      "Data can also be sorted by any index level, using `sortlevel`:"
     ]
    },
    {
     "cell_type": "code",
     "collapsed": false,
     "input": [
      "mb.sortlevel('Patient', ascending=False).head()"
     ],
     "language": "python",
     "metadata": {},
     "outputs": []
    },
    {
     "cell_type": "markdown",
     "metadata": {},
     "source": [
      "## Missing data\n",
      "\n",
      "The occurence of missing data is so prevalent that it pays to use tools like Pandas, which seamlessly integrates missing data handling so that it can be dealt with easily, and in the manner required by the analysis at hand.\n",
      "\n",
      "Missing data are represented in `Series` and `DataFrame` objects by the `NaN` floating point value. However, `None` is also treated as missing, since it is commonly used as such in other contexts (*e.g.* NumPy)."
     ]
    },
    {
     "cell_type": "code",
     "collapsed": false,
     "input": [
      "foo = pd.Series([NaN, -3, None, 'foobar'])\n",
      "foo"
     ],
     "language": "python",
     "metadata": {},
     "outputs": []
    },
    {
     "cell_type": "code",
     "collapsed": false,
     "input": [
      "foo.isnull()"
     ],
     "language": "python",
     "metadata": {},
     "outputs": []
    },
    {
     "cell_type": "markdown",
     "metadata": {},
     "source": [
      "Missing values may be dropped or indexed out:"
     ]
    },
    {
     "cell_type": "code",
     "collapsed": false,
     "input": [
      "bacteria2"
     ],
     "language": "python",
     "metadata": {},
     "outputs": []
    },
    {
     "cell_type": "code",
     "collapsed": false,
     "input": [
      "bacteria2.dropna()"
     ],
     "language": "python",
     "metadata": {},
     "outputs": []
    },
    {
     "cell_type": "code",
     "collapsed": false,
     "input": [
      "bacteria2[bacteria2.notnull()]"
     ],
     "language": "python",
     "metadata": {},
     "outputs": []
    },
    {
     "cell_type": "markdown",
     "metadata": {},
     "source": [
      "By default, `dropna` drops entire rows in which one or more values are missing."
     ]
    },
    {
     "cell_type": "code",
     "collapsed": false,
     "input": [
      "data"
     ],
     "language": "python",
     "metadata": {},
     "outputs": []
    },
    {
     "cell_type": "code",
     "collapsed": false,
     "input": [
      "data.dropna()"
     ],
     "language": "python",
     "metadata": {},
     "outputs": []
    },
    {
     "cell_type": "markdown",
     "metadata": {},
     "source": [
      "This can be overridden by passing the `how='all'` argument, which only drops a row when every field is a missing value."
     ]
    },
    {
     "cell_type": "code",
     "collapsed": false,
     "input": [
      "data.dropna(how='all')"
     ],
     "language": "python",
     "metadata": {},
     "outputs": []
    },
    {
     "cell_type": "markdown",
     "metadata": {},
     "source": [
      "This can be customized further by specifying how many values need to be present before a row is dropped via the `thresh` argument."
     ]
    },
    {
     "cell_type": "code",
     "collapsed": false,
     "input": [
      "data.ix[7, 'year'] = nan\n",
      "data"
     ],
     "language": "python",
     "metadata": {},
     "outputs": []
    },
    {
     "cell_type": "code",
     "collapsed": false,
     "input": [
      "data.dropna(thresh=4)"
     ],
     "language": "python",
     "metadata": {},
     "outputs": []
    },
    {
     "cell_type": "markdown",
     "metadata": {},
     "source": [
      "This is typically used in time series applications, where there are repeated measurements that are incomplete for some subjects."
     ]
    },
    {
     "cell_type": "markdown",
     "metadata": {},
     "source": [
      "If we want to drop missing values column-wise instead of row-wise, we use `axis=1`."
     ]
    },
    {
     "cell_type": "code",
     "collapsed": false,
     "input": [
      "data.dropna(axis=1)"
     ],
     "language": "python",
     "metadata": {},
     "outputs": []
    },
    {
     "cell_type": "markdown",
     "metadata": {},
     "source": [
      "Rather than omitting missing data from an analysis, in some cases it may be suitable to fill the missing value in, either with a default value (such as zero) or a value that is either imputed or carried forward/backward from similar data points. We can do this programmatically in Pandas with the `fillna` argument."
     ]
    },
    {
     "cell_type": "code",
     "collapsed": false,
     "input": [
      "bacteria2.fillna(0)"
     ],
     "language": "python",
     "metadata": {},
     "outputs": []
    },
    {
     "cell_type": "code",
     "collapsed": false,
     "input": [
      "data.fillna({'year': 2013, 'treatment':2})"
     ],
     "language": "python",
     "metadata": {},
     "outputs": []
    },
    {
     "cell_type": "markdown",
     "metadata": {},
     "source": [
      "Notice that `fillna` by default returns a new object with the desired filling behavior, rather than changing the `Series` or  `DataFrame` in place (**in general, we like to do this, by the way!**)."
     ]
    },
    {
     "cell_type": "code",
     "collapsed": false,
     "input": [
      "data"
     ],
     "language": "python",
     "metadata": {},
     "outputs": []
    },
    {
     "cell_type": "markdown",
     "metadata": {},
     "source": [
      "We can alter values in-place using `inplace=True`."
     ]
    },
    {
     "cell_type": "code",
     "collapsed": false,
     "input": [
      "_ = data.year.fillna(2013, inplace=True)\n",
      "data"
     ],
     "language": "python",
     "metadata": {},
     "outputs": []
    },
    {
     "cell_type": "markdown",
     "metadata": {},
     "source": [
      "Missing values can also be interpolated, using any one of a variety of methods:"
     ]
    },
    {
     "cell_type": "code",
     "collapsed": false,
     "input": [
      "bacteria2.fillna(method='bfill')"
     ],
     "language": "python",
     "metadata": {},
     "outputs": []
    },
    {
     "cell_type": "code",
     "collapsed": false,
     "input": [
      "bacteria2.fillna(bacteria2.mean())"
     ],
     "language": "python",
     "metadata": {},
     "outputs": []
    },
    {
     "cell_type": "markdown",
     "metadata": {},
     "source": [
      "## Data summarization\n",
      "\n",
      "We often wish to summarize data in `Series` or `DataFrame` objects, so that they can more easily be understood or compared with similar data. The NumPy package contains several functions that are useful here, but several summarization or reduction methods are built into Pandas data structures."
     ]
    },
    {
     "cell_type": "code",
     "collapsed": false,
     "input": [
      "baseball.sum()"
     ],
     "language": "python",
     "metadata": {},
     "outputs": []
    },
    {
     "cell_type": "markdown",
     "metadata": {},
     "source": [
      "Clearly, `sum` is more meaningful for some columns than others. For methods like `mean` for which application to string variables is not just meaningless, but impossible, these columns are automatically exculded:"
     ]
    },
    {
     "cell_type": "code",
     "collapsed": false,
     "input": [
      "baseball.mean()"
     ],
     "language": "python",
     "metadata": {},
     "outputs": []
    },
    {
     "cell_type": "markdown",
     "metadata": {},
     "source": [
      "The important difference between NumPy's functions and Pandas' methods is that the latter have built-in support for handling missing data."
     ]
    },
    {
     "cell_type": "code",
     "collapsed": false,
     "input": [
      "bacteria2"
     ],
     "language": "python",
     "metadata": {},
     "outputs": []
    },
    {
     "cell_type": "code",
     "collapsed": false,
     "input": [
      "bacteria2.mean()"
     ],
     "language": "python",
     "metadata": {},
     "outputs": []
    },
    {
     "cell_type": "markdown",
     "metadata": {},
     "source": [
      "Sometimes we may not want to ignore missing values, and allow the `nan` to propagate."
     ]
    },
    {
     "cell_type": "code",
     "collapsed": false,
     "input": [
      "bacteria2.mean(skipna=False)"
     ],
     "language": "python",
     "metadata": {},
     "outputs": []
    },
    {
     "cell_type": "markdown",
     "metadata": {},
     "source": [
      "Passing `axis=1` will summarize over rows instead of columns, which only makes sense in certain situations."
     ]
    },
    {
     "cell_type": "code",
     "collapsed": false,
     "input": [
      "extra_bases = baseball[['X2b','X3b','hr']].sum(axis=1)\n",
      "extra_bases.order(ascending=False)"
     ],
     "language": "python",
     "metadata": {},
     "outputs": []
    },
    {
     "cell_type": "markdown",
     "metadata": {},
     "source": [
      "A useful summarization that gives a quick snapshot of multiple statistics for a `Series` or `DataFrame` is `describe`:"
     ]
    },
    {
     "cell_type": "code",
     "collapsed": false,
     "input": [
      "baseball.describe()"
     ],
     "language": "python",
     "metadata": {},
     "outputs": []
    },
    {
     "cell_type": "markdown",
     "metadata": {},
     "source": [
      "`describe` can detect non-numeric data and sometimes yield useful information about it."
     ]
    },
    {
     "cell_type": "code",
     "collapsed": false,
     "input": [
      "baseball.player.describe()"
     ],
     "language": "python",
     "metadata": {},
     "outputs": []
    },
    {
     "cell_type": "markdown",
     "metadata": {},
     "source": [
      "We can also calculate summary statistics *across* multiple columns, for example, correlation and covariance.\n",
      "\n",
      "$$cov(x,y) = \\sum_i (x_i - \\bar{x})(y_i - \\bar{y})$$"
     ]
    },
    {
     "cell_type": "code",
     "collapsed": false,
     "input": [
      "baseball.hr.cov(baseball.X2b)"
     ],
     "language": "python",
     "metadata": {},
     "outputs": []
    },
    {
     "cell_type": "markdown",
     "metadata": {},
     "source": [
      "$$corr(x,y) = \\frac{cov(x,y)}{(n-1)s_x s_y} = \\frac{\\sum_i (x_i - \\bar{x})(y_i - \\bar{y})}{\\sqrt{\\sum_i (x_i - \\bar{x})^2 \\sum_i (y_i - \\bar{y})^2}}$$"
     ]
    },
    {
     "cell_type": "code",
     "collapsed": false,
     "input": [
      "baseball.hr.corr(baseball.X2b)"
     ],
     "language": "python",
     "metadata": {},
     "outputs": []
    },
    {
     "cell_type": "code",
     "collapsed": false,
     "input": [
      "baseball.ab.corr(baseball.h)"
     ],
     "language": "python",
     "metadata": {},
     "outputs": []
    },
    {
     "cell_type": "code",
     "collapsed": false,
     "input": [
      "baseball.corr()"
     ],
     "language": "python",
     "metadata": {},
     "outputs": []
    },
    {
     "cell_type": "markdown",
     "metadata": {},
     "source": [
      "If we have a `DataFrame` with a hierarchical index (or indices), summary statistics can be applied with respect to any of the index levels:"
     ]
    },
    {
     "cell_type": "code",
     "collapsed": false,
     "input": [
      "mb.head()"
     ],
     "language": "python",
     "metadata": {},
     "outputs": []
    },
    {
     "cell_type": "code",
     "collapsed": false,
     "input": [
      "mb.sum(level='Taxon')"
     ],
     "language": "python",
     "metadata": {},
     "outputs": []
    },
    {
     "cell_type": "markdown",
     "metadata": {},
     "source": [
      "## Writing Data to Files\n",
      "\n",
      "As well as being able to read several data input formats, Pandas can also export data to a variety of storage formats. We will bring your attention to just a couple of these."
     ]
    },
    {
     "cell_type": "code",
     "collapsed": false,
     "input": [
      "mb.to_csv(\"mb.csv\")"
     ],
     "language": "python",
     "metadata": {},
     "outputs": []
    },
    {
     "cell_type": "markdown",
     "metadata": {},
     "source": [
      "The `to_csv` method writes a `DataFrame` to a comma-separated values (csv) file. You can specify custom delimiters (via `sep` argument), how missing values are written (via `na_rep` argument), whether the index is writen (via `index` argument), whether the header is included (via `header` argument), among other options."
     ]
    },
    {
     "cell_type": "markdown",
     "metadata": {},
     "source": [
      "An efficient way of storing data to disk is in binary format. Pandas supports this using Python\u2019s built-in pickle serialization."
     ]
    },
    {
     "cell_type": "code",
     "collapsed": false,
     "input": [
      "baseball.to_pickle(\"baseball_pickle\")"
     ],
     "language": "python",
     "metadata": {},
     "outputs": []
    },
    {
     "cell_type": "markdown",
     "metadata": {},
     "source": [
      "The complement to `to_pickle` is the `read_pickle` function, which restores the pickle to a `DataFrame` or `Series`:"
     ]
    },
    {
     "cell_type": "code",
     "collapsed": false,
     "input": [
      "pd.read_pickle(\"baseball_pickle\")"
     ],
     "language": "python",
     "metadata": {},
     "outputs": []
    },
    {
     "cell_type": "markdown",
     "metadata": {},
     "source": [
      "As Wes warns in his book, it is recommended that binary storage of data via pickle only be used as a temporary storage format, in situations where speed is relevant. This is because there is no guarantee that the pickle format will not change with future versions of Python."
     ]
    }
   ],
   "metadata": {}
  }
 ]
}